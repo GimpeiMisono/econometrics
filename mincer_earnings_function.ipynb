{
 "cells": [
  {
   "cell_type": "markdown",
   "metadata": {},
   "source": [
    "# Pythonでミンサー方程式を推定してみた\n",
    "## ミンサー方程式とは\n",
    "修学年数を1年伸ばすことによる所得の増加率は、**教育の収益率**とよばれているらしく、この**教育の収益率**を計測する際に使う重回帰モデルのことをさします。\n",
    "\n",
    "```math\n",
    "ln(賃金) = β_0 + β_1(修学年数) + β_2(就業可能年数) + β_3(就業可能年数)^2 + U\n",
    "```"
   ]
  },
  {
   "cell_type": "code",
   "execution_count": 7,
   "metadata": {},
   "outputs": [],
   "source": [
    "# 必要なライブラリのimport\n",
    "import pandas as pd\n",
    "import statsmodels.api as sm\n",
    "import statsmodels.formula.api as smf\n",
    "import numpy as np"
   ]
  },
  {
   "cell_type": "code",
   "execution_count": 8,
   "metadata": {},
   "outputs": [
    {
     "data": {
      "text/html": [
       "<div>\n",
       "<style scoped>\n",
       "    .dataframe tbody tr th:only-of-type {\n",
       "        vertical-align: middle;\n",
       "    }\n",
       "\n",
       "    .dataframe tbody tr th {\n",
       "        vertical-align: top;\n",
       "    }\n",
       "\n",
       "    .dataframe thead th {\n",
       "        text-align: right;\n",
       "    }\n",
       "</style>\n",
       "<table border=\"1\" class=\"dataframe\">\n",
       "  <thead>\n",
       "    <tr style=\"text-align: right;\">\n",
       "      <th></th>\n",
       "      <th>exper</th>\n",
       "      <th>exper2</th>\n",
       "      <th>yeduc</th>\n",
       "      <th>income</th>\n",
       "      <th>lincome</th>\n",
       "    </tr>\n",
       "  </thead>\n",
       "  <tbody>\n",
       "    <tr>\n",
       "      <th>0</th>\n",
       "      <td>7</td>\n",
       "      <td>49</td>\n",
       "      <td>9</td>\n",
       "      <td>100.0</td>\n",
       "      <td>4.605170</td>\n",
       "    </tr>\n",
       "    <tr>\n",
       "      <th>1</th>\n",
       "      <td>8</td>\n",
       "      <td>64</td>\n",
       "      <td>9</td>\n",
       "      <td>150.0</td>\n",
       "      <td>5.010635</td>\n",
       "    </tr>\n",
       "    <tr>\n",
       "      <th>2</th>\n",
       "      <td>8</td>\n",
       "      <td>64</td>\n",
       "      <td>9</td>\n",
       "      <td>150.0</td>\n",
       "      <td>5.010635</td>\n",
       "    </tr>\n",
       "    <tr>\n",
       "      <th>3</th>\n",
       "      <td>10</td>\n",
       "      <td>100</td>\n",
       "      <td>9</td>\n",
       "      <td>200.0</td>\n",
       "      <td>5.298317</td>\n",
       "    </tr>\n",
       "    <tr>\n",
       "      <th>4</th>\n",
       "      <td>10</td>\n",
       "      <td>100</td>\n",
       "      <td>9</td>\n",
       "      <td>300.0</td>\n",
       "      <td>5.703783</td>\n",
       "    </tr>\n",
       "  </tbody>\n",
       "</table>\n",
       "</div>"
      ],
      "text/plain": [
       "   exper  exper2  yeduc  income   lincome\n",
       "0      7      49      9   100.0  4.605170\n",
       "1      8      64      9   150.0  5.010635\n",
       "2      8      64      9   150.0  5.010635\n",
       "3     10     100      9   200.0  5.298317\n",
       "4     10     100      9   300.0  5.703783"
      ]
     },
     "execution_count": 8,
     "metadata": {},
     "output_type": "execute_result"
    }
   ],
   "source": [
    "# 分析に利用するデータの読み込み\n",
    "mincer = pd.read_csv('6_1_income.csv')\n",
    "mincer.head()"
   ]
  },
  {
   "cell_type": "code",
   "execution_count": 9,
   "metadata": {},
   "outputs": [
    {
     "data": {
      "text/html": [
       "<div>\n",
       "<style scoped>\n",
       "    .dataframe tbody tr th:only-of-type {\n",
       "        vertical-align: middle;\n",
       "    }\n",
       "\n",
       "    .dataframe tbody tr th {\n",
       "        vertical-align: top;\n",
       "    }\n",
       "\n",
       "    .dataframe thead th {\n",
       "        text-align: right;\n",
       "    }\n",
       "</style>\n",
       "<table border=\"1\" class=\"dataframe\">\n",
       "  <thead>\n",
       "    <tr style=\"text-align: right;\">\n",
       "      <th></th>\n",
       "      <th>exper</th>\n",
       "      <th>exper2</th>\n",
       "      <th>yeduc</th>\n",
       "      <th>income</th>\n",
       "      <th>lincome</th>\n",
       "    </tr>\n",
       "  </thead>\n",
       "  <tbody>\n",
       "    <tr>\n",
       "      <th>count</th>\n",
       "      <td>4299.000000</td>\n",
       "      <td>4299.000000</td>\n",
       "      <td>4299.000000</td>\n",
       "      <td>4299.000000</td>\n",
       "      <td>4299.000000</td>\n",
       "    </tr>\n",
       "    <tr>\n",
       "      <th>mean</th>\n",
       "      <td>11.816469</td>\n",
       "      <td>179.015352</td>\n",
       "      <td>13.859967</td>\n",
       "      <td>264.824669</td>\n",
       "      <td>5.290452</td>\n",
       "    </tr>\n",
       "    <tr>\n",
       "      <th>std</th>\n",
       "      <td>6.276590</td>\n",
       "      <td>149.874866</td>\n",
       "      <td>1.876212</td>\n",
       "      <td>179.911242</td>\n",
       "      <td>0.895883</td>\n",
       "    </tr>\n",
       "    <tr>\n",
       "      <th>min</th>\n",
       "      <td>0.000000</td>\n",
       "      <td>0.000000</td>\n",
       "      <td>9.000000</td>\n",
       "      <td>6.250000</td>\n",
       "      <td>1.832582</td>\n",
       "    </tr>\n",
       "    <tr>\n",
       "      <th>25%</th>\n",
       "      <td>7.000000</td>\n",
       "      <td>49.000000</td>\n",
       "      <td>12.000000</td>\n",
       "      <td>150.000000</td>\n",
       "      <td>5.010635</td>\n",
       "    </tr>\n",
       "    <tr>\n",
       "      <th>50%</th>\n",
       "      <td>12.000000</td>\n",
       "      <td>144.000000</td>\n",
       "      <td>13.000000</td>\n",
       "      <td>250.000000</td>\n",
       "      <td>5.521461</td>\n",
       "    </tr>\n",
       "    <tr>\n",
       "      <th>75%</th>\n",
       "      <td>17.000000</td>\n",
       "      <td>289.000000</td>\n",
       "      <td>16.000000</td>\n",
       "      <td>350.000000</td>\n",
       "      <td>5.857933</td>\n",
       "    </tr>\n",
       "    <tr>\n",
       "      <th>max</th>\n",
       "      <td>26.000000</td>\n",
       "      <td>676.000000</td>\n",
       "      <td>18.000000</td>\n",
       "      <td>2250.000000</td>\n",
       "      <td>7.718686</td>\n",
       "    </tr>\n",
       "  </tbody>\n",
       "</table>\n",
       "</div>"
      ],
      "text/plain": [
       "             exper       exper2        yeduc       income      lincome\n",
       "count  4299.000000  4299.000000  4299.000000  4299.000000  4299.000000\n",
       "mean     11.816469   179.015352    13.859967   264.824669     5.290452\n",
       "std       6.276590   149.874866     1.876212   179.911242     0.895883\n",
       "min       0.000000     0.000000     9.000000     6.250000     1.832582\n",
       "25%       7.000000    49.000000    12.000000   150.000000     5.010635\n",
       "50%      12.000000   144.000000    13.000000   250.000000     5.521461\n",
       "75%      17.000000   289.000000    16.000000   350.000000     5.857933\n",
       "max      26.000000   676.000000    18.000000  2250.000000     7.718686"
      ]
     },
     "execution_count": 9,
     "metadata": {},
     "output_type": "execute_result"
    }
   ],
   "source": [
    "mincer.describe()"
   ]
  },
  {
   "cell_type": "code",
   "execution_count": 10,
   "metadata": {
    "slideshow": {
     "slide_type": "slide"
    }
   },
   "outputs": [
    {
     "name": "stdout",
     "output_type": "stream",
     "text": [
      "                            OLS Regression Results                            \n",
      "==============================================================================\n",
      "Dep. Variable:                lincome   R-squared:                       0.207\n",
      "Model:                            OLS   Adj. R-squared:                  0.206\n",
      "Method:                 Least Squares   F-statistic:                     372.8\n",
      "Date:                Fri, 20 Apr 2018   Prob (F-statistic):          3.41e-215\n",
      "Time:                        07:58:36   Log-Likelihood:                -5129.4\n",
      "No. Observations:                4299   AIC:                         1.027e+04\n",
      "Df Residuals:                    4295   BIC:                         1.029e+04\n",
      "Df Model:                           3                                         \n",
      "Covariance Type:            nonrobust                                         \n",
      "==============================================================================\n",
      "                 coef    std err          t      P>|t|      [0.025      0.975]\n",
      "------------------------------------------------------------------------------\n",
      "Intercept      2.4855      0.111     22.436      0.000       2.268       2.703\n",
      "yeduc          0.1175      0.007     16.649      0.000       0.104       0.131\n",
      "exper          0.1962      0.007     26.179      0.000       0.181       0.211\n",
      "exper2        -0.0064      0.000    -20.181      0.000      -0.007      -0.006\n",
      "==============================================================================\n",
      "Omnibus:                     1489.749   Durbin-Watson:                   1.028\n",
      "Prob(Omnibus):                  0.000   Jarque-Bera (JB):             5682.257\n",
      "Skew:                          -1.698   Prob(JB):                         0.00\n",
      "Kurtosis:                       7.493   Cond. No.                     2.13e+03\n",
      "==============================================================================\n",
      "\n",
      "Warnings:\n",
      "[1] Standard Errors assume that the covariance matrix of the errors is correctly specified.\n",
      "[2] The condition number is large, 2.13e+03. This might indicate that there are\n",
      "strong multicollinearity or other numerical problems.\n"
     ]
    }
   ],
   "source": [
    "formula = 'lincome ~ yeduc + exper + exper2' # 方程式をformulaに格納\n",
    "results = smf.ols(formula, mincer).fit()\n",
    "print(results.summary())"
   ]
  },
  {
   "cell_type": "markdown",
   "metadata": {},
   "source": [
    "## 結果\n",
    "yeducのcoefが0.1175となっているので、教育の収益率が11.8%になっていることがわかりました。"
   ]
  }
 ],
 "metadata": {
  "kernelspec": {
   "display_name": "Python 3",
   "language": "python",
   "name": "python3"
  },
  "language_info": {
   "codemirror_mode": {
    "name": "ipython",
    "version": 3
   },
   "file_extension": ".py",
   "mimetype": "text/x-python",
   "name": "python",
   "nbconvert_exporter": "python",
   "pygments_lexer": "ipython3",
   "version": "3.6.4"
  }
 },
 "nbformat": 4,
 "nbformat_minor": 2
}
